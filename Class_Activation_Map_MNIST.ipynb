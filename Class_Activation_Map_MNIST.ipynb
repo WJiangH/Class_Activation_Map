{
 "cells": [
  {
   "cell_type": "markdown",
   "id": "d93df1a6",
   "metadata": {},
   "source": [
    "This work implements a simple class activation map (CAM) of a model trained on the [Fashion MNIST dataset](https://github.com/zalandoresearch/fashion-mnist). This will show what parts of the image the model was paying attention to when deciding the class of the image."
   ]
  },
  {
   "cell_type": "markdown",
   "id": "5dfde02d",
   "metadata": {},
   "source": [
    "# Package"
   ]
  },
  {
   "cell_type": "code",
   "execution_count": 1,
   "id": "3cd28ed1",
   "metadata": {},
   "outputs": [
    {
     "name": "stdout",
     "output_type": "stream",
     "text": [
      "tf version:  2.10.0\n"
     ]
    }
   ],
   "source": [
    "import tensorflow as tf\n",
    "import tensorflow_datasets as tfds\n",
    "\n",
    "import numpy as np\n",
    "import scipy as sp\n",
    "import matplotlib.pyplot as plt\n",
    "\n",
    "print(\"tf version: \", tf.__version__)"
   ]
  },
  {
   "cell_type": "markdown",
   "id": "464925c8",
   "metadata": {},
   "source": [
    "# Data download and process"
   ]
  },
  {
   "cell_type": "code",
   "execution_count": 2,
   "id": "9c74d651",
   "metadata": {},
   "outputs": [
    {
     "name": "stdout",
     "output_type": "stream",
     "text": [
      "Metal device set to: Apple M2\n"
     ]
    },
    {
     "name": "stderr",
     "output_type": "stream",
     "text": [
      "2022-10-15 22:08:47.664835: I tensorflow/core/common_runtime/pluggable_device/pluggable_device_factory.cc:306] Could not identify NUMA node of platform GPU ID 0, defaulting to 0. Your kernel may not have been built with NUMA support.\n",
      "2022-10-15 22:08:47.665549: I tensorflow/core/common_runtime/pluggable_device/pluggable_device_factory.cc:272] Created TensorFlow device (/job:localhost/replica:0/task:0/device:GPU:0 with 0 MB memory) -> physical PluggableDevice (device: 0, name: METAL, pci bus id: <undefined>)\n"
     ]
    }
   ],
   "source": [
    "# set up \"download\" to True when first time download\n",
    "splits, info = tfds.load('fashion_mnist', with_info=True, split=['train', 'test'], \n",
    "                         data_dir='./MNIST', download=False)"
   ]
  },
  {
   "cell_type": "code",
   "execution_count": 3,
   "id": "92380671",
   "metadata": {},
   "outputs": [],
   "source": [
    "train_data, test_data = splits"
   ]
  },
  {
   "cell_type": "code",
   "execution_count": 4,
   "id": "4bf8a311",
   "metadata": {},
   "outputs": [
    {
     "name": "stdout",
     "output_type": "stream",
     "text": [
      "image shape:  (28, 28, 1)\n",
      "numbers of trainning example:  60000\n",
      "numbers of test example:  10000\n"
     ]
    }
   ],
   "source": [
    "image_shape = info.features['image'].shape\n",
    "train_num_examples = len(train_data)\n",
    "test_num_examples = len(test_data)\n",
    "\n",
    "print('image shape: ', str(image_shape))\n",
    "print('numbers of trainning example: ', train_num_examples)\n",
    "print('numbers of test example: ', test_num_examples)"
   ]
  },
  {
   "cell_type": "code",
   "execution_count": 5,
   "id": "72185b52",
   "metadata": {},
   "outputs": [],
   "source": [
    "# image normalization and formating\n",
    "def format_image(data):\n",
    "    image = data['image']\n",
    "    image = tf.cast(image, tf.float32)\n",
    "    image = image / 255.\n",
    "    \n",
    "    return (image, data['label'])"
   ]
  },
  {
   "cell_type": "code",
   "execution_count": 6,
   "id": "bdeeaac2",
   "metadata": {},
   "outputs": [],
   "source": [
    "#display a sample image in the train data\n",
    "def show_sample_img():\n",
    "    for sample in train_data.take(1):\n",
    "        plt.imshow(sample['image'])"
   ]
  },
  {
   "cell_type": "code",
   "execution_count": 7,
   "id": "03082b72",
   "metadata": {},
   "outputs": [
    {
     "name": "stderr",
     "output_type": "stream",
     "text": [
      "2022-10-15 22:10:21.458957: W tensorflow/core/platform/profile_utils/cpu_utils.cc:128] Failed to get CPU frequency: 0 Hz\n",
      "2022-10-15 22:10:21.500274: W tensorflow/core/kernels/data/cache_dataset_ops.cc:856] The calling iterator did not fully read the dataset being cached. In order to avoid unexpected truncation of the dataset, the partially cached contents of the dataset  will be discarded. This can happen if you have an input pipeline similar to `dataset.cache().take(k).repeat()`. You should use `dataset.take(k).cache().repeat()` instead.\n"
     ]
    },
    {
     "data": {
      "image/png": "[encoded data removed]",
      "text/plain": [
       "<Figure size 640x480 with 1 Axes>"
      ]
     },
     "metadata": {},
     "output_type": "display_data"
    }
   ],
   "source": [
    "show_sample_img()"
   ]
  },
  {
   "cell_type": "code",
   "execution_count": 9,
   "id": "358f7e65",
   "metadata": {},
   "outputs": [],
   "source": [
    "# generate the batch dataset \n",
    "batch_size = 32\n",
    "train_dataset = train_data.map(format_image).shuffle(buffer_size=1024).batch(batch_size).prefetch(-1)\n",
    "test_dataset = test_data.map(format_image).batch(batch_size)"
   ]
  },
  {
   "cell_type": "markdown",
   "id": "8f75d8c5",
   "metadata": {},
   "source": [
    "# Define a sample model"
   ]
  },
  {
   "cell_type": "code",
   "execution_count": 10,
   "id": "0d278950",
   "metadata": {},
   "outputs": [],
   "source": [
    "def sample_model(inputs):\n",
    "    \n",
    "    x = tf.keras.layers.Conv2D(16, kernel_size=(3, 3), activation='relu', padding='SAME')(inputs)\n",
    "    # pooling layer with a stride of 2 will reduce the image dimensions by half\n",
    "    x = tf.keras.layers.MaxPooling2D((2, 2))(x)\n",
    "    \n",
    "    # pass through more convolutions with increasing filters\n",
    "    x = tf.keras.layers.Conv2D(32, kernel_size=(3, 3), activation='relu', padding='SAME')(x)\n",
    "    x = tf.keras.layers.MaxPooling2D((2, 2))(x)\n",
    "    \n",
    "    x = tf.keras.layers.Conv2D(64, kernel_size=(3, 3), activation='relu', padding='SAME')(x)\n",
    "    x = tf.keras.layers.MaxPooling2D((2, 2))(x)\n",
    "    \n",
    "    x = tf.keras.layers.Conv2D(128, kernel_size=(3, 3), activation='relu', padding='SAME')(x)\n",
    "    # use global average pooling to take into account lesser intensity pixels\n",
    "    x = tf.keras.layers.GlobalAvgPool2D()(x)\n",
    "    \n",
    "    # output class probabilities\n",
    "    output = tf.keras.layers.Dense(10, 'softmax')(x)\n",
    "    \n",
    "    model = tf.keras.Model(inputs=inputs, outputs=output)\n",
    "    \n",
    "    return model"
   ]
  },
  {
   "cell_type": "code",
   "execution_count": 11,
   "id": "1d23514c",
   "metadata": {},
   "outputs": [
    {
     "name": "stdout",
     "output_type": "stream",
     "text": [
      "Model: \"model\"\n",
      "_________________________________________________________________\n",
      " Layer (type)                Output Shape              Param #   \n",
      "=================================================================\n",
      " input_1 (InputLayer)        [(None, 28, 28, 1)]       0         \n",
      "                                                                 \n",
      " conv2d (Conv2D)             (None, 28, 28, 16)        160       \n",
      "                                                                 \n",
      " max_pooling2d (MaxPooling2D  (None, 14, 14, 16)       0         \n",
      " )                                                               \n",
      "                                                                 \n",
      " conv2d_1 (Conv2D)           (None, 14, 14, 32)        4640      \n",
      "                                                                 \n",
      " max_pooling2d_1 (MaxPooling  (None, 7, 7, 32)         0         \n",
      " 2D)                                                             \n",
      "                                                                 \n",
      " conv2d_2 (Conv2D)           (None, 7, 7, 64)          18496     \n",
      "                                                                 \n",
      " max_pooling2d_2 (MaxPooling  (None, 3, 3, 64)         0         \n",
      " 2D)                                                             \n",
      "                                                                 \n",
      " conv2d_3 (Conv2D)           (None, 3, 3, 128)         73856     \n",
      "                                                                 \n",
      " global_average_pooling2d (G  (None, 128)              0         \n",
      " lobalAveragePooling2D)                                          \n",
      "                                                                 \n",
      " dense (Dense)               (None, 10)                1290      \n",
      "                                                                 \n",
      "=================================================================\n",
      "Total params: 98,442\n",
      "Trainable params: 98,442\n",
      "Non-trainable params: 0\n",
      "_________________________________________________________________\n"
     ]
    }
   ],
   "source": [
    "inputs = tf.keras.layers.Input(image_shape)\n",
    "model = sample_model(inputs)\n",
    "\n",
    "model.summary()"
   ]
  },
  {
   "cell_type": "code",
   "execution_count": 12,
   "id": "962911eb",
   "metadata": {},
   "outputs": [],
   "source": [
    "#compile the model\n",
    "model.compile(optimizer='adam', loss='sparse_categorical_crossentropy', metrics=['acc'])"
   ]
  },
  {
   "cell_type": "code",
   "execution_count": 13,
   "id": "08ff9c2e",
   "metadata": {},
   "outputs": [
    {
     "name": "stdout",
     "output_type": "stream",
     "text": [
      "Epoch 1/5\n"
     ]
    },
    {
     "name": "stderr",
     "output_type": "stream",
     "text": [
      "2022-10-15 22:12:46.049740: I tensorflow/core/grappler/optimizers/custom_graph_optimizer_registry.cc:114] Plugin optimizer for device_type GPU is enabled.\n"
     ]
    },
    {
     "name": "stdout",
     "output_type": "stream",
     "text": [
      "1873/1875 [============================>.] - ETA: 0s - loss: 0.5846 - acc: 0.7844"
     ]
    },
    {
     "name": "stderr",
     "output_type": "stream",
     "text": [
      "2022-10-15 22:13:01.942701: I tensorflow/core/grappler/optimizers/custom_graph_optimizer_registry.cc:114] Plugin optimizer for device_type GPU is enabled.\n"
     ]
    },
    {
     "name": "stdout",
     "output_type": "stream",
     "text": [
      "1875/1875 [==============================] - 17s 9ms/step - loss: 0.5845 - acc: 0.7844 - val_loss: 0.4269 - val_acc: 0.8412\n",
      "Epoch 2/5\n",
      "1875/1875 [==============================] - 16s 9ms/step - loss: 0.3621 - acc: 0.8673 - val_loss: 0.3516 - val_acc: 0.8716\n",
      "Epoch 3/5\n",
      "1875/1875 [==============================] - 16s 8ms/step - loss: 0.3078 - acc: 0.8861 - val_loss: 0.3652 - val_acc: 0.8634\n",
      "Epoch 4/5\n",
      "1875/1875 [==============================] - 16s 8ms/step - loss: 0.2728 - acc: 0.8990 - val_loss: 0.2776 - val_acc: 0.9027\n",
      "Epoch 5/5\n",
      "1875/1875 [==============================] - 16s 8ms/step - loss: 0.2468 - acc: 0.9091 - val_loss: 0.2951 - val_acc: 0.8969\n"
     ]
    },
    {
     "data": {
      "text/plain": [
       "<keras.callbacks.History at 0x1630609d0>"
      ]
     },
     "execution_count": 13,
     "metadata": {},
     "output_type": "execute_result"
    }
   ],
   "source": [
    "# train the model\n",
    "train_step = train_num_examples // batch_size\n",
    "validation_step = test_num_examples // batch_size\n",
    "EPOCHs = 5\n",
    "model.fit(train_dataset, epochs=EPOCHs, validation_data=test_dataset, steps_per_epoch=train_step)"
   ]
  },
  {
   "cell_type": "markdown",
   "id": "e9fd41aa",
   "metadata": {},
   "source": [
    "## Generate the Class Activation Map\n",
    "\n",
    "To generate the class activation map, we want to get the features detected in the last convolution layer and see which ones are most active when generating the output probabilities. "
   ]
  },
  {
   "cell_type": "code",
   "execution_count": 14,
   "id": "8f75fb4d",
   "metadata": {},
   "outputs": [
    {
     "name": "stdout",
     "output_type": "stream",
     "text": [
      "conv2d_3\n",
      "global_average_pooling2d\n",
      "dense\n"
     ]
    }
   ],
   "source": [
    "# final convolution layer\n",
    "print(model.layers[-3].name)\n",
    "\n",
    "# global average pooling layer\n",
    "print(model.layers[-2].name)\n",
    "\n",
    "# output of the classifier\n",
    "print(model.layers[-1].name)"
   ]
  },
  {
   "cell_type": "code",
   "execution_count": 15,
   "id": "24c0518b",
   "metadata": {},
   "outputs": [
    {
     "name": "stdout",
     "output_type": "stream",
     "text": [
      "Model: \"model_1\"\n",
      "_________________________________________________________________\n",
      " Layer (type)                Output Shape              Param #   \n",
      "=================================================================\n",
      " input_1 (InputLayer)        [(None, 28, 28, 1)]       0         \n",
      "                                                                 \n",
      " conv2d (Conv2D)             (None, 28, 28, 16)        160       \n",
      "                                                                 \n",
      " max_pooling2d (MaxPooling2D  (None, 14, 14, 16)       0         \n",
      " )                                                               \n",
      "                                                                 \n",
      " conv2d_1 (Conv2D)           (None, 14, 14, 32)        4640      \n",
      "                                                                 \n",
      " max_pooling2d_1 (MaxPooling  (None, 7, 7, 32)         0         \n",
      " 2D)                                                             \n",
      "                                                                 \n",
      " conv2d_2 (Conv2D)           (None, 7, 7, 64)          18496     \n",
      "                                                                 \n",
      " max_pooling2d_2 (MaxPooling  (None, 3, 3, 64)         0         \n",
      " 2D)                                                             \n",
      "                                                                 \n",
      " conv2d_3 (Conv2D)           (None, 3, 3, 128)         73856     \n",
      "                                                                 \n",
      " global_average_pooling2d (G  (None, 128)              0         \n",
      " lobalAveragePooling2D)                                          \n",
      "                                                                 \n",
      " dense (Dense)               (None, 10)                1290      \n",
      "                                                                 \n",
      "=================================================================\n",
      "Total params: 98,442\n",
      "Trainable params: 98,442\n",
      "Non-trainable params: 0\n",
      "_________________________________________________________________\n"
     ]
    }
   ],
   "source": [
    "cam_model = tf.keras.Model(inputs=model.input,outputs=[model.layers[-3].output, model.layers[-1].output])\n",
    "cam_model.summary()"
   ]
  },
  {
   "cell_type": "code",
   "execution_count": 25,
   "id": "4a93f44a",
   "metadata": {},
   "outputs": [
    {
     "name": "stdout",
     "output_type": "stream",
     "text": [
      "313/313 [==============================] - 0s 1ms/step\n",
      "features shape:  (10000, 3, 3, 128)\n",
      "results shape (10000, 10)\n"
     ]
    }
   ],
   "source": [
    "# get the features and results of the test images using the newly created model\n",
    "features, results = cam_model.predict(test_dataset)\n",
    "X_test = [x['image'] for x in list(test_data)]\n",
    "# shape of the features\n",
    "print(\"features shape: \", features.shape)\n",
    "print(\"results shape\", results.shape)"
   ]
  },
  {
   "cell_type": "code",
   "execution_count": 16,
   "id": "3bebb255",
   "metadata": {},
   "outputs": [
    {
     "name": "stdout",
     "output_type": "stream",
     "text": [
      "There are 128 feature weights and 10 classes.\n"
     ]
    }
   ],
   "source": [
    "last_dense_layer = model.layers[-1]\n",
    "# get the weights list. index 0 contains the weights, index 1 contains the biases\n",
    "gap_weights_l = last_dense_layer.get_weights()\n",
    "\n",
    "# Store the weights\n",
    "gap_weights = gap_weights_l[0]\n",
    "\n",
    "print(f\"There are {gap_weights.shape[0]} feature weights and {gap_weights.shape[1]} classes.\")"
   ]
  },
  {
   "cell_type": "code",
   "execution_count": 17,
   "id": "60e01e8f",
   "metadata": {},
   "outputs": [],
   "source": [
    "def show_cam(image_index):\n",
    "    '''displays the class activation map of a particular image'''\n",
    "\n",
    "    # takes the features of the chosen image\n",
    "    features_for_img = features[image_index,:,:,:]\n",
    "\n",
    "    # get the class with the highest output probability\n",
    "    prediction = np.argmax(results[image_index])\n",
    "\n",
    "    # get the gap weights at the predicted class\n",
    "    class_activation_weights = gap_weights[:,prediction]\n",
    "\n",
    "    # upsample the features to the image's original size (28 x 28)\n",
    "    class_activation_features = sp.ndimage.zoom(features_for_img, (28/3, 28/3, 1), order=2)\n",
    "\n",
    "    # compute the intensity of each feature in the CAM\n",
    "    cam_output  = np.dot(class_activation_features,class_activation_weights)\n",
    "    \n",
    "#     print('Predicted Class = ' +str(prediction)+ ', Probability = ' + str(results[image_index][prediction]))\n",
    "    \n",
    "    # show the upsampled image\n",
    "    plt.imshow(np.squeeze(X_test[image_index],-1), alpha=0.5)\n",
    "    \n",
    "    # strongly classified (95% probability) images will be in green, else red\n",
    "    if results[image_index][prediction]>0.95:\n",
    "        cmap_str = 'Greens'\n",
    "    else:\n",
    "        cmap_str = 'Reds'\n",
    "\n",
    "    # overlay the cam output\n",
    "    plt.imshow(cam_output, cmap=cmap_str, alpha=0.5)\n",
    "    plt.xlabel('Probability: ' + str(results[image_index][prediction]))\n"
   ]
  },
  {
   "cell_type": "code",
   "execution_count": 29,
   "id": "048f5040",
   "metadata": {},
   "outputs": [],
   "source": [
    "def show_maps(desired_class, num_maps, save_img=False):\n",
    "    '''\n",
    "    goes through the first 10,000 test images and generates CAMs \n",
    "    for the first `num_maps`(int) of the `desired_class`(int)\n",
    "    '''\n",
    "\n",
    "    counter = 0\n",
    "\n",
    "    if desired_class < 10:\n",
    "        print(\"please choose a class less than 10\")\n",
    "\n",
    "    # go through the first 10000 images\n",
    "    fig = plt.figure()\n",
    "    for i in range(0,10000):\n",
    "        # break if we already displayed the specified number of maps\n",
    "        if counter == num_maps*num_maps:\n",
    "            break\n",
    "\n",
    "        # images that match the class will be shown\n",
    "        if np.argmax(results[i]) == desired_class:\n",
    "            counter += 1\n",
    "            ax = fig.add_subplot(num_maps, num_maps, counter)\n",
    "            show_cam(i)\n",
    "            ax.set_xticks([])\n",
    "            ax.set_yticks([])\n",
    "    if save_img:\n",
    "        plt.savefig('mnist.jpg', bbox_inches='tight')"
   ]
  },
  {
   "cell_type": "markdown",
   "id": "06503d6e",
   "metadata": {},
   "source": [
    "## show the CAM, where darker area implies the more intension the model focus on"
   ]
  },
  {
   "cell_type": "code",
   "execution_count": 30,
   "id": "049cb392",
   "metadata": {},
   "outputs": [
    {
     "ename": "SyntaxError",
     "evalue": "positional argument follows keyword argument (2810926482.py, line 1)",
     "output_type": "error",
     "traceback": [
      "\u001b[0;36m  Cell \u001b[0;32mIn [30], line 1\u001b[0;36m\u001b[0m\n\u001b[0;31m    show_maps(desired_class=7, num_maps=2, True)\u001b[0m\n\u001b[0m                                               ^\u001b[0m\n\u001b[0;31mSyntaxError\u001b[0m\u001b[0;31m:\u001b[0m positional argument follows keyword argument\n"
     ]
    }
   ],
   "source": [
    "show_maps(desired_class=7, num_maps=2, save_img=)"
   ]
  },
  {
   "cell_type": "code",
   "execution_count": null,
   "id": "c51bdba2",
   "metadata": {},
   "outputs": [],
   "source": []
  }
 ],
 "metadata": {
  "kernelspec": {
   "display_name": "Python 3.9 (tensorflow)",
   "language": "python",
   "name": "tf"
  },
  "language_info": {
   "codemirror_mode": {
    "name": "ipython",
    "version": 3
   },
   "file_extension": ".py",
   "mimetype": "text/x-python",
   "name": "python",
   "nbconvert_exporter": "python",
   "pygments_lexer": "ipython3",
   "version": "3.9.13"
  }
 },
 "nbformat": 4,
 "nbformat_minor": 5
}
